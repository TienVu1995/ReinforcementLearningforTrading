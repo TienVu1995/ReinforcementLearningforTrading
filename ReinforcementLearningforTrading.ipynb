{
  "nbformat": 4,
  "nbformat_minor": 0,
  "metadata": {
    "colab": {
      "provenance": []
    },
    "kernelspec": {
      "name": "python3",
      "display_name": "Python 3"
    },
    "language_info": {
      "name": "python"
    }
  },
  "cells": [
    {
      "cell_type": "markdown",
      "source": [
        "# Install & Import"
      ],
      "metadata": {
        "id": "YOteRKIjVyKv"
      }
    },
    {
      "cell_type": "code",
      "source": [
        "! pip install gym==0.21.0"
      ],
      "metadata": {
        "colab": {
          "base_uri": "https://localhost:8080/"
        },
        "collapsed": true,
        "id": "oEoHdpWb_zzu",
        "outputId": "cb389f13-312e-4cdf-ae9f-98411267899b"
      },
      "execution_count": null,
      "outputs": [
        {
          "output_type": "stream",
          "name": "stdout",
          "text": [
            "Looking in indexes: https://pypi.org/simple, https://us-python.pkg.dev/colab-wheels/public/simple/\n",
            "Collecting gym==0.21.0\n",
            "  Using cached gym-0.21.0.tar.gz (1.5 MB)\n",
            "  Preparing metadata (setup.py) ... \u001b[?25l\u001b[?25hdone\n",
            "Requirement already satisfied: numpy>=1.18.0 in /usr/local/lib/python3.10/dist-packages (from gym==0.21.0) (1.22.4)\n",
            "Requirement already satisfied: cloudpickle>=1.2.0 in /usr/local/lib/python3.10/dist-packages (from gym==0.21.0) (2.2.1)\n",
            "Building wheels for collected packages: gym\n",
            "  \u001b[1;31merror\u001b[0m: \u001b[1msubprocess-exited-with-error\u001b[0m\n",
            "  \n",
            "  \u001b[31m×\u001b[0m \u001b[32mpython setup.py bdist_wheel\u001b[0m did not run successfully.\n",
            "  \u001b[31m│\u001b[0m exit code: \u001b[1;36m1\u001b[0m\n",
            "  \u001b[31m╰─>\u001b[0m See above for output.\n",
            "  \n",
            "  \u001b[1;35mnote\u001b[0m: This error originates from a subprocess, and is likely not a problem with pip.\n",
            "  Building wheel for gym (setup.py) ... \u001b[?25lerror\n",
            "\u001b[31m  ERROR: Failed building wheel for gym\u001b[0m\u001b[31m\n",
            "\u001b[0m\u001b[?25h  Running setup.py clean for gym\n",
            "Failed to build gym\n",
            "Installing collected packages: gym\n",
            "  Running setup.py install for gym ... \u001b[?25l\u001b[?25hdone\n",
            "\u001b[33m  DEPRECATION: gym was installed using the legacy 'setup.py install' method, because a wheel could not be built for it. pip 23.1 will enforce this behaviour change. A possible replacement is to fix the wheel build issue reported above. Discussion can be found at https://github.com/pypa/pip/issues/8368\u001b[0m\u001b[33m\n",
            "\u001b[0mSuccessfully installed gym-0.21.0\n"
          ]
        }
      ]
    },
    {
      "cell_type": "code",
      "source": [
        "!pip install setuptools==66"
      ],
      "metadata": {
        "colab": {
          "base_uri": "https://localhost:8080/"
        },
        "collapsed": true,
        "id": "2_9TolWMGZiK",
        "outputId": "ca7a2035-6810-4975-97c7-892fb81054ea"
      },
      "execution_count": null,
      "outputs": [
        {
          "output_type": "stream",
          "name": "stdout",
          "text": [
            "Looking in indexes: https://pypi.org/simple, https://us-python.pkg.dev/colab-wheels/public/simple/\n",
            "Collecting setuptools==66\n",
            "  Downloading setuptools-66.0.0-py3-none-any.whl (1.3 MB)\n",
            "\u001b[2K     \u001b[90m━━━━━━━━━━━━━━━━━━━━━━━━━━━━━━━━━━━━━━━━\u001b[0m \u001b[32m1.3/1.3 MB\u001b[0m \u001b[31m18.5 MB/s\u001b[0m eta \u001b[36m0:00:00\u001b[0m\n",
            "\u001b[?25hInstalling collected packages: setuptools\n",
            "  Attempting uninstall: setuptools\n",
            "    Found existing installation: setuptools 67.7.2\n",
            "    Uninstalling setuptools-67.7.2:\n",
            "      Successfully uninstalled setuptools-67.7.2\n",
            "\u001b[31mERROR: pip's dependency resolver does not currently take into account all the packages that are installed. This behaviour is the source of the following dependency conflicts.\n",
            "ipython 7.34.0 requires jedi>=0.16, which is not installed.\n",
            "dopamine-rl 4.0.6 requires gym<=0.25.2, which is not installed.\u001b[0m\u001b[31m\n",
            "\u001b[0mSuccessfully installed setuptools-66.0.0\n"
          ]
        }
      ]
    },
    {
      "cell_type": "code",
      "source": [
        "import torch\n",
        "print(torch.__version__)"
      ],
      "metadata": {
        "colab": {
          "base_uri": "https://localhost:8080/"
        },
        "id": "f_GGos9VIH6c",
        "outputId": "cd3fd6a9-35a9-4809-8364-4ea74db204cd"
      },
      "execution_count": null,
      "outputs": [
        {
          "output_type": "stream",
          "name": "stdout",
          "text": [
            "2.0.0+cu118\n"
          ]
        }
      ]
    },
    {
      "cell_type": "code",
      "source": [
        "!pip install torch==1.12.0+cpu -f https://download.pytorch.org/whl/torch_stable.html"
      ],
      "metadata": {
        "colab": {
          "base_uri": "https://localhost:8080/"
        },
        "collapsed": true,
        "id": "-Sa4oHv8IMMz",
        "outputId": "40a40e63-dbfe-4721-8cfb-6af1065ded7f"
      },
      "execution_count": null,
      "outputs": [
        {
          "output_type": "stream",
          "name": "stdout",
          "text": [
            "Looking in indexes: https://pypi.org/simple, https://us-python.pkg.dev/colab-wheels/public/simple/\n",
            "Looking in links: https://download.pytorch.org/whl/torch_stable.html\n",
            "Collecting torch==1.12.0+cpu\n",
            "  Downloading https://download.pytorch.org/whl/cpu/torch-1.12.0%2Bcpu-cp310-cp310-linux_x86_64.whl (189.0 MB)\n",
            "\u001b[2K     \u001b[90m━━━━━━━━━━━━━━━━━━━━━━━━━━━━━━━━━━━━━━━\u001b[0m \u001b[32m189.0/189.0 MB\u001b[0m \u001b[31m6.6 MB/s\u001b[0m eta \u001b[36m0:00:00\u001b[0m\n",
            "\u001b[?25hRequirement already satisfied: typing-extensions in /usr/local/lib/python3.10/dist-packages (from torch==1.12.0+cpu) (4.5.0)\n",
            "Installing collected packages: torch\n",
            "  Attempting uninstall: torch\n",
            "    Found existing installation: torch 2.0.0+cu118\n",
            "    Uninstalling torch-2.0.0+cu118:\n",
            "      Successfully uninstalled torch-2.0.0+cu118\n",
            "\u001b[31mERROR: pip's dependency resolver does not currently take into account all the packages that are installed. This behaviour is the source of the following dependency conflicts.\n",
            "torchvision 0.15.1+cu118 requires torch==2.0.0, but you have torch 1.12.0+cpu which is incompatible.\n",
            "torchtext 0.15.1 requires torch==2.0.0, but you have torch 1.12.0+cpu which is incompatible.\n",
            "torchdata 0.6.0 requires torch==2.0.0, but you have torch 1.12.0+cpu which is incompatible.\n",
            "torchaudio 2.0.1+cu118 requires torch==2.0.0, but you have torch 1.12.0+cpu which is incompatible.\u001b[0m\u001b[31m\n",
            "\u001b[0mSuccessfully installed torch-1.12.0+cpu\n"
          ]
        }
      ]
    },
    {
      "cell_type": "code",
      "source": [
        "! pip install gym_anytrading"
      ],
      "metadata": {
        "colab": {
          "base_uri": "https://localhost:8080/"
        },
        "collapsed": true,
        "id": "cLcEbSOq-kZ8",
        "outputId": "11754207-ff07-47e1-87e0-b61fd7930d4e"
      },
      "execution_count": null,
      "outputs": [
        {
          "output_type": "stream",
          "name": "stdout",
          "text": [
            "Looking in indexes: https://pypi.org/simple, https://us-python.pkg.dev/colab-wheels/public/simple/\n",
            "Requirement already satisfied: gym_anytrading in /usr/local/lib/python3.10/dist-packages (1.3.2)\n",
            "Requirement already satisfied: matplotlib>=3.1.1 in /usr/local/lib/python3.10/dist-packages (from gym_anytrading) (3.7.1)\n",
            "Requirement already satisfied: gym>=0.12.5 in /usr/local/lib/python3.10/dist-packages (from gym_anytrading) (0.21.0)\n",
            "Requirement already satisfied: numpy>=1.16.4 in /usr/local/lib/python3.10/dist-packages (from gym_anytrading) (1.22.4)\n",
            "Requirement already satisfied: pandas>=0.24.2 in /usr/local/lib/python3.10/dist-packages (from gym_anytrading) (1.5.3)\n",
            "Requirement already satisfied: cloudpickle>=1.2.0 in /usr/local/lib/python3.10/dist-packages (from gym>=0.12.5->gym_anytrading) (2.2.1)\n",
            "Requirement already satisfied: kiwisolver>=1.0.1 in /usr/local/lib/python3.10/dist-packages (from matplotlib>=3.1.1->gym_anytrading) (1.4.4)\n",
            "Requirement already satisfied: pillow>=6.2.0 in /usr/local/lib/python3.10/dist-packages (from matplotlib>=3.1.1->gym_anytrading) (8.4.0)\n",
            "Requirement already satisfied: python-dateutil>=2.7 in /usr/local/lib/python3.10/dist-packages (from matplotlib>=3.1.1->gym_anytrading) (2.8.2)\n",
            "Requirement already satisfied: cycler>=0.10 in /usr/local/lib/python3.10/dist-packages (from matplotlib>=3.1.1->gym_anytrading) (0.11.0)\n",
            "Requirement already satisfied: packaging>=20.0 in /usr/local/lib/python3.10/dist-packages (from matplotlib>=3.1.1->gym_anytrading) (23.1)\n",
            "Requirement already satisfied: pyparsing>=2.3.1 in /usr/local/lib/python3.10/dist-packages (from matplotlib>=3.1.1->gym_anytrading) (3.0.9)\n",
            "Requirement already satisfied: contourpy>=1.0.1 in /usr/local/lib/python3.10/dist-packages (from matplotlib>=3.1.1->gym_anytrading) (1.0.7)\n",
            "Requirement already satisfied: fonttools>=4.22.0 in /usr/local/lib/python3.10/dist-packages (from matplotlib>=3.1.1->gym_anytrading) (4.39.3)\n",
            "Requirement already satisfied: pytz>=2020.1 in /usr/local/lib/python3.10/dist-packages (from pandas>=0.24.2->gym_anytrading) (2022.7.1)\n",
            "Requirement already satisfied: six>=1.5 in /usr/local/lib/python3.10/dist-packages (from python-dateutil>=2.7->matplotlib>=3.1.1->gym_anytrading) (1.16.0)\n"
          ]
        }
      ]
    },
    {
      "cell_type": "code",
      "source": [
        "!pip install stable_baselines3"
      ],
      "metadata": {
        "colab": {
          "base_uri": "https://localhost:8080/"
        },
        "collapsed": true,
        "id": "3_GEjTC8_B73",
        "outputId": "85b363ba-dd8f-441e-b556-2141527bec8e"
      },
      "execution_count": null,
      "outputs": [
        {
          "output_type": "stream",
          "name": "stdout",
          "text": [
            "Looking in indexes: https://pypi.org/simple, https://us-python.pkg.dev/colab-wheels/public/simple/\n",
            "Collecting stable_baselines3\n",
            "  Using cached stable_baselines3-1.8.0-py3-none-any.whl (174 kB)\n",
            "Requirement already satisfied: pandas in /usr/local/lib/python3.10/dist-packages (from stable_baselines3) (1.5.3)\n",
            "Requirement already satisfied: cloudpickle in /usr/local/lib/python3.10/dist-packages (from stable_baselines3) (2.2.1)\n",
            "Requirement already satisfied: torch>=1.11 in /usr/local/lib/python3.10/dist-packages (from stable_baselines3) (1.12.0+cpu)\n",
            "Requirement already satisfied: matplotlib in /usr/local/lib/python3.10/dist-packages (from stable_baselines3) (3.7.1)\n",
            "Collecting importlib-metadata~=4.13\n",
            "  Downloading importlib_metadata-4.13.0-py3-none-any.whl (23 kB)\n",
            "Requirement already satisfied: numpy in /usr/local/lib/python3.10/dist-packages (from stable_baselines3) (1.22.4)\n",
            "Requirement already satisfied: gym==0.21 in /usr/local/lib/python3.10/dist-packages (from stable_baselines3) (0.21.0)\n",
            "Requirement already satisfied: zipp>=0.5 in /usr/local/lib/python3.10/dist-packages (from importlib-metadata~=4.13->stable_baselines3) (3.15.0)\n",
            "Requirement already satisfied: typing-extensions in /usr/local/lib/python3.10/dist-packages (from torch>=1.11->stable_baselines3) (4.5.0)\n",
            "Requirement already satisfied: cycler>=0.10 in /usr/local/lib/python3.10/dist-packages (from matplotlib->stable_baselines3) (0.11.0)\n",
            "Requirement already satisfied: python-dateutil>=2.7 in /usr/local/lib/python3.10/dist-packages (from matplotlib->stable_baselines3) (2.8.2)\n",
            "Requirement already satisfied: fonttools>=4.22.0 in /usr/local/lib/python3.10/dist-packages (from matplotlib->stable_baselines3) (4.39.3)\n",
            "Requirement already satisfied: packaging>=20.0 in /usr/local/lib/python3.10/dist-packages (from matplotlib->stable_baselines3) (23.1)\n",
            "Requirement already satisfied: pyparsing>=2.3.1 in /usr/local/lib/python3.10/dist-packages (from matplotlib->stable_baselines3) (3.0.9)\n",
            "Requirement already satisfied: pillow>=6.2.0 in /usr/local/lib/python3.10/dist-packages (from matplotlib->stable_baselines3) (8.4.0)\n",
            "Requirement already satisfied: kiwisolver>=1.0.1 in /usr/local/lib/python3.10/dist-packages (from matplotlib->stable_baselines3) (1.4.4)\n",
            "Requirement already satisfied: contourpy>=1.0.1 in /usr/local/lib/python3.10/dist-packages (from matplotlib->stable_baselines3) (1.0.7)\n",
            "Requirement already satisfied: pytz>=2020.1 in /usr/local/lib/python3.10/dist-packages (from pandas->stable_baselines3) (2022.7.1)\n",
            "Requirement already satisfied: six>=1.5 in /usr/local/lib/python3.10/dist-packages (from python-dateutil>=2.7->matplotlib->stable_baselines3) (1.16.0)\n",
            "Installing collected packages: importlib-metadata, stable_baselines3\n",
            "Successfully installed importlib-metadata-4.13.0 stable_baselines3-1.8.0\n"
          ]
        }
      ]
    },
    {
      "cell_type": "code",
      "source": [
        "# Gym stuff\n",
        "import gym\n",
        "import gym_anytrading\n",
        "import torch\n",
        "\n",
        "# Stable-baselines3\n",
        "from stable_baselines3.common.vec_env import DummyVecEnv\n",
        "from stable_baselines3 import A2C\n",
        "\n",
        "#Other\n",
        "import numpy as np\n",
        "import pandas as pd\n",
        "import matplotlib.pyplot as plt"
      ],
      "metadata": {
        "id": "-WgWV-4xIf7s"
      },
      "execution_count": null,
      "outputs": []
    },
    {
      "cell_type": "markdown",
      "source": [
        "# Get data"
      ],
      "metadata": {
        "id": "AeVPteZrV8TC"
      }
    },
    {
      "cell_type": "code",
      "source": [
        "# Read file\n",
        "df=pd.read_csv(\"https://raw.githubusercontent.com/nicknochnack/Reinforcement-Learning-for-Trading/main/data/gmedata.csv\")"
      ],
      "metadata": {
        "id": "PmlJOcoUJX3J"
      },
      "execution_count": null,
      "outputs": []
    },
    {
      "cell_type": "code",
      "source": [
        "df.head()"
      ],
      "metadata": {
        "colab": {
          "base_uri": "https://localhost:8080/",
          "height": 206
        },
        "id": "wYJQABtiJb6H",
        "outputId": "0c6ffd8e-9a38-4d09-eb3b-84def84a0572"
      },
      "execution_count": null,
      "outputs": [
        {
          "output_type": "execute_result",
          "data": {
            "text/plain": [
              "         Date    Open    High     Low  Close      Volume\n",
              "0  03/12/2021  275.00  295.50  262.27  264.5  25,845,900\n",
              "1  03/11/2021  241.64  281.50  232.60  260.0  28,312,490\n",
              "2  03/10/2021  269.43  348.50  172.00  265.0  71,570,570\n",
              "3  03/09/2021  217.71  249.85  208.51  246.9  39,099,328\n",
              "4  03/08/2021  154.89  210.87  146.10  194.5  63,565,621"
            ],
            "text/html": [
              "\n",
              "  <div id=\"df-2c1815c0-0da9-4ca7-a5c2-6360e563659f\">\n",
              "    <div class=\"colab-df-container\">\n",
              "      <div>\n",
              "<style scoped>\n",
              "    .dataframe tbody tr th:only-of-type {\n",
              "        vertical-align: middle;\n",
              "    }\n",
              "\n",
              "    .dataframe tbody tr th {\n",
              "        vertical-align: top;\n",
              "    }\n",
              "\n",
              "    .dataframe thead th {\n",
              "        text-align: right;\n",
              "    }\n",
              "</style>\n",
              "<table border=\"1\" class=\"dataframe\">\n",
              "  <thead>\n",
              "    <tr style=\"text-align: right;\">\n",
              "      <th></th>\n",
              "      <th>Date</th>\n",
              "      <th>Open</th>\n",
              "      <th>High</th>\n",
              "      <th>Low</th>\n",
              "      <th>Close</th>\n",
              "      <th>Volume</th>\n",
              "    </tr>\n",
              "  </thead>\n",
              "  <tbody>\n",
              "    <tr>\n",
              "      <th>0</th>\n",
              "      <td>03/12/2021</td>\n",
              "      <td>275.00</td>\n",
              "      <td>295.50</td>\n",
              "      <td>262.27</td>\n",
              "      <td>264.5</td>\n",
              "      <td>25,845,900</td>\n",
              "    </tr>\n",
              "    <tr>\n",
              "      <th>1</th>\n",
              "      <td>03/11/2021</td>\n",
              "      <td>241.64</td>\n",
              "      <td>281.50</td>\n",
              "      <td>232.60</td>\n",
              "      <td>260.0</td>\n",
              "      <td>28,312,490</td>\n",
              "    </tr>\n",
              "    <tr>\n",
              "      <th>2</th>\n",
              "      <td>03/10/2021</td>\n",
              "      <td>269.43</td>\n",
              "      <td>348.50</td>\n",
              "      <td>172.00</td>\n",
              "      <td>265.0</td>\n",
              "      <td>71,570,570</td>\n",
              "    </tr>\n",
              "    <tr>\n",
              "      <th>3</th>\n",
              "      <td>03/09/2021</td>\n",
              "      <td>217.71</td>\n",
              "      <td>249.85</td>\n",
              "      <td>208.51</td>\n",
              "      <td>246.9</td>\n",
              "      <td>39,099,328</td>\n",
              "    </tr>\n",
              "    <tr>\n",
              "      <th>4</th>\n",
              "      <td>03/08/2021</td>\n",
              "      <td>154.89</td>\n",
              "      <td>210.87</td>\n",
              "      <td>146.10</td>\n",
              "      <td>194.5</td>\n",
              "      <td>63,565,621</td>\n",
              "    </tr>\n",
              "  </tbody>\n",
              "</table>\n",
              "</div>\n",
              "      <button class=\"colab-df-convert\" onclick=\"convertToInteractive('df-2c1815c0-0da9-4ca7-a5c2-6360e563659f')\"\n",
              "              title=\"Convert this dataframe to an interactive table.\"\n",
              "              style=\"display:none;\">\n",
              "        \n",
              "  <svg xmlns=\"http://www.w3.org/2000/svg\" height=\"24px\"viewBox=\"0 0 24 24\"\n",
              "       width=\"24px\">\n",
              "    <path d=\"M0 0h24v24H0V0z\" fill=\"none\"/>\n",
              "    <path d=\"M18.56 5.44l.94 2.06.94-2.06 2.06-.94-2.06-.94-.94-2.06-.94 2.06-2.06.94zm-11 1L8.5 8.5l.94-2.06 2.06-.94-2.06-.94L8.5 2.5l-.94 2.06-2.06.94zm10 10l.94 2.06.94-2.06 2.06-.94-2.06-.94-.94-2.06-.94 2.06-2.06.94z\"/><path d=\"M17.41 7.96l-1.37-1.37c-.4-.4-.92-.59-1.43-.59-.52 0-1.04.2-1.43.59L10.3 9.45l-7.72 7.72c-.78.78-.78 2.05 0 2.83L4 21.41c.39.39.9.59 1.41.59.51 0 1.02-.2 1.41-.59l7.78-7.78 2.81-2.81c.8-.78.8-2.07 0-2.86zM5.41 20L4 18.59l7.72-7.72 1.47 1.35L5.41 20z\"/>\n",
              "  </svg>\n",
              "      </button>\n",
              "      \n",
              "  <style>\n",
              "    .colab-df-container {\n",
              "      display:flex;\n",
              "      flex-wrap:wrap;\n",
              "      gap: 12px;\n",
              "    }\n",
              "\n",
              "    .colab-df-convert {\n",
              "      background-color: #E8F0FE;\n",
              "      border: none;\n",
              "      border-radius: 50%;\n",
              "      cursor: pointer;\n",
              "      display: none;\n",
              "      fill: #1967D2;\n",
              "      height: 32px;\n",
              "      padding: 0 0 0 0;\n",
              "      width: 32px;\n",
              "    }\n",
              "\n",
              "    .colab-df-convert:hover {\n",
              "      background-color: #E2EBFA;\n",
              "      box-shadow: 0px 1px 2px rgba(60, 64, 67, 0.3), 0px 1px 3px 1px rgba(60, 64, 67, 0.15);\n",
              "      fill: #174EA6;\n",
              "    }\n",
              "\n",
              "    [theme=dark] .colab-df-convert {\n",
              "      background-color: #3B4455;\n",
              "      fill: #D2E3FC;\n",
              "    }\n",
              "\n",
              "    [theme=dark] .colab-df-convert:hover {\n",
              "      background-color: #434B5C;\n",
              "      box-shadow: 0px 1px 3px 1px rgba(0, 0, 0, 0.15);\n",
              "      filter: drop-shadow(0px 1px 2px rgba(0, 0, 0, 0.3));\n",
              "      fill: #FFFFFF;\n",
              "    }\n",
              "  </style>\n",
              "\n",
              "      <script>\n",
              "        const buttonEl =\n",
              "          document.querySelector('#df-2c1815c0-0da9-4ca7-a5c2-6360e563659f button.colab-df-convert');\n",
              "        buttonEl.style.display =\n",
              "          google.colab.kernel.accessAllowed ? 'block' : 'none';\n",
              "\n",
              "        async function convertToInteractive(key) {\n",
              "          const element = document.querySelector('#df-2c1815c0-0da9-4ca7-a5c2-6360e563659f');\n",
              "          const dataTable =\n",
              "            await google.colab.kernel.invokeFunction('convertToInteractive',\n",
              "                                                     [key], {});\n",
              "          if (!dataTable) return;\n",
              "\n",
              "          const docLinkHtml = 'Like what you see? Visit the ' +\n",
              "            '<a target=\"_blank\" href=https://colab.research.google.com/notebooks/data_table.ipynb>data table notebook</a>'\n",
              "            + ' to learn more about interactive tables.';\n",
              "          element.innerHTML = '';\n",
              "          dataTable['output_type'] = 'display_data';\n",
              "          await google.colab.output.renderOutput(dataTable, element);\n",
              "          const docLink = document.createElement('div');\n",
              "          docLink.innerHTML = docLinkHtml;\n",
              "          element.appendChild(docLink);\n",
              "        }\n",
              "      </script>\n",
              "    </div>\n",
              "  </div>\n",
              "  "
            ]
          },
          "metadata": {},
          "execution_count": 21
        }
      ]
    },
    {
      "cell_type": "code",
      "source": [
        "df.dtypes"
      ],
      "metadata": {
        "colab": {
          "base_uri": "https://localhost:8080/"
        },
        "id": "icAtChohJ-R6",
        "outputId": "c05aa70d-65f7-417e-dcb5-abb0560dd7f9"
      },
      "execution_count": null,
      "outputs": [
        {
          "output_type": "execute_result",
          "data": {
            "text/plain": [
              "Date       object\n",
              "Open      float64\n",
              "High      float64\n",
              "Low       float64\n",
              "Close     float64\n",
              "Volume     object\n",
              "dtype: object"
            ]
          },
          "metadata": {},
          "execution_count": 22
        }
      ]
    },
    {
      "cell_type": "code",
      "source": [
        "# Convert to correct date type\n",
        "df['Date']=pd.to_datetime(df['Date'])\n",
        "df.dtypes"
      ],
      "metadata": {
        "colab": {
          "base_uri": "https://localhost:8080/"
        },
        "id": "tdvYvBtzJ_th",
        "outputId": "5e569444-101e-4dd5-ba80-5c74037de1f0"
      },
      "execution_count": null,
      "outputs": [
        {
          "output_type": "execute_result",
          "data": {
            "text/plain": [
              "Date      datetime64[ns]\n",
              "Open             float64\n",
              "High             float64\n",
              "Low              float64\n",
              "Close            float64\n",
              "Volume            object\n",
              "dtype: object"
            ]
          },
          "metadata": {},
          "execution_count": 23
        }
      ]
    },
    {
      "cell_type": "code",
      "source": [
        "# Set date column as index\n",
        "df.set_index('Date',inplace=True)\n",
        "df.head()"
      ],
      "metadata": {
        "colab": {
          "base_uri": "https://localhost:8080/",
          "height": 238
        },
        "id": "tE1KPjsQKBtL",
        "outputId": "a5320391-ea21-4655-ef78-fb9def7382de"
      },
      "execution_count": null,
      "outputs": [
        {
          "output_type": "execute_result",
          "data": {
            "text/plain": [
              "              Open    High     Low  Close      Volume\n",
              "Date                                                 \n",
              "2021-03-12  275.00  295.50  262.27  264.5  25,845,900\n",
              "2021-03-11  241.64  281.50  232.60  260.0  28,312,490\n",
              "2021-03-10  269.43  348.50  172.00  265.0  71,570,570\n",
              "2021-03-09  217.71  249.85  208.51  246.9  39,099,328\n",
              "2021-03-08  154.89  210.87  146.10  194.5  63,565,621"
            ],
            "text/html": [
              "\n",
              "  <div id=\"df-9adc1831-7f95-4e68-b022-73fa1fd60250\">\n",
              "    <div class=\"colab-df-container\">\n",
              "      <div>\n",
              "<style scoped>\n",
              "    .dataframe tbody tr th:only-of-type {\n",
              "        vertical-align: middle;\n",
              "    }\n",
              "\n",
              "    .dataframe tbody tr th {\n",
              "        vertical-align: top;\n",
              "    }\n",
              "\n",
              "    .dataframe thead th {\n",
              "        text-align: right;\n",
              "    }\n",
              "</style>\n",
              "<table border=\"1\" class=\"dataframe\">\n",
              "  <thead>\n",
              "    <tr style=\"text-align: right;\">\n",
              "      <th></th>\n",
              "      <th>Open</th>\n",
              "      <th>High</th>\n",
              "      <th>Low</th>\n",
              "      <th>Close</th>\n",
              "      <th>Volume</th>\n",
              "    </tr>\n",
              "    <tr>\n",
              "      <th>Date</th>\n",
              "      <th></th>\n",
              "      <th></th>\n",
              "      <th></th>\n",
              "      <th></th>\n",
              "      <th></th>\n",
              "    </tr>\n",
              "  </thead>\n",
              "  <tbody>\n",
              "    <tr>\n",
              "      <th>2021-03-12</th>\n",
              "      <td>275.00</td>\n",
              "      <td>295.50</td>\n",
              "      <td>262.27</td>\n",
              "      <td>264.5</td>\n",
              "      <td>25,845,900</td>\n",
              "    </tr>\n",
              "    <tr>\n",
              "      <th>2021-03-11</th>\n",
              "      <td>241.64</td>\n",
              "      <td>281.50</td>\n",
              "      <td>232.60</td>\n",
              "      <td>260.0</td>\n",
              "      <td>28,312,490</td>\n",
              "    </tr>\n",
              "    <tr>\n",
              "      <th>2021-03-10</th>\n",
              "      <td>269.43</td>\n",
              "      <td>348.50</td>\n",
              "      <td>172.00</td>\n",
              "      <td>265.0</td>\n",
              "      <td>71,570,570</td>\n",
              "    </tr>\n",
              "    <tr>\n",
              "      <th>2021-03-09</th>\n",
              "      <td>217.71</td>\n",
              "      <td>249.85</td>\n",
              "      <td>208.51</td>\n",
              "      <td>246.9</td>\n",
              "      <td>39,099,328</td>\n",
              "    </tr>\n",
              "    <tr>\n",
              "      <th>2021-03-08</th>\n",
              "      <td>154.89</td>\n",
              "      <td>210.87</td>\n",
              "      <td>146.10</td>\n",
              "      <td>194.5</td>\n",
              "      <td>63,565,621</td>\n",
              "    </tr>\n",
              "  </tbody>\n",
              "</table>\n",
              "</div>\n",
              "      <button class=\"colab-df-convert\" onclick=\"convertToInteractive('df-9adc1831-7f95-4e68-b022-73fa1fd60250')\"\n",
              "              title=\"Convert this dataframe to an interactive table.\"\n",
              "              style=\"display:none;\">\n",
              "        \n",
              "  <svg xmlns=\"http://www.w3.org/2000/svg\" height=\"24px\"viewBox=\"0 0 24 24\"\n",
              "       width=\"24px\">\n",
              "    <path d=\"M0 0h24v24H0V0z\" fill=\"none\"/>\n",
              "    <path d=\"M18.56 5.44l.94 2.06.94-2.06 2.06-.94-2.06-.94-.94-2.06-.94 2.06-2.06.94zm-11 1L8.5 8.5l.94-2.06 2.06-.94-2.06-.94L8.5 2.5l-.94 2.06-2.06.94zm10 10l.94 2.06.94-2.06 2.06-.94-2.06-.94-.94-2.06-.94 2.06-2.06.94z\"/><path d=\"M17.41 7.96l-1.37-1.37c-.4-.4-.92-.59-1.43-.59-.52 0-1.04.2-1.43.59L10.3 9.45l-7.72 7.72c-.78.78-.78 2.05 0 2.83L4 21.41c.39.39.9.59 1.41.59.51 0 1.02-.2 1.41-.59l7.78-7.78 2.81-2.81c.8-.78.8-2.07 0-2.86zM5.41 20L4 18.59l7.72-7.72 1.47 1.35L5.41 20z\"/>\n",
              "  </svg>\n",
              "      </button>\n",
              "      \n",
              "  <style>\n",
              "    .colab-df-container {\n",
              "      display:flex;\n",
              "      flex-wrap:wrap;\n",
              "      gap: 12px;\n",
              "    }\n",
              "\n",
              "    .colab-df-convert {\n",
              "      background-color: #E8F0FE;\n",
              "      border: none;\n",
              "      border-radius: 50%;\n",
              "      cursor: pointer;\n",
              "      display: none;\n",
              "      fill: #1967D2;\n",
              "      height: 32px;\n",
              "      padding: 0 0 0 0;\n",
              "      width: 32px;\n",
              "    }\n",
              "\n",
              "    .colab-df-convert:hover {\n",
              "      background-color: #E2EBFA;\n",
              "      box-shadow: 0px 1px 2px rgba(60, 64, 67, 0.3), 0px 1px 3px 1px rgba(60, 64, 67, 0.15);\n",
              "      fill: #174EA6;\n",
              "    }\n",
              "\n",
              "    [theme=dark] .colab-df-convert {\n",
              "      background-color: #3B4455;\n",
              "      fill: #D2E3FC;\n",
              "    }\n",
              "\n",
              "    [theme=dark] .colab-df-convert:hover {\n",
              "      background-color: #434B5C;\n",
              "      box-shadow: 0px 1px 3px 1px rgba(0, 0, 0, 0.15);\n",
              "      filter: drop-shadow(0px 1px 2px rgba(0, 0, 0, 0.3));\n",
              "      fill: #FFFFFF;\n",
              "    }\n",
              "  </style>\n",
              "\n",
              "      <script>\n",
              "        const buttonEl =\n",
              "          document.querySelector('#df-9adc1831-7f95-4e68-b022-73fa1fd60250 button.colab-df-convert');\n",
              "        buttonEl.style.display =\n",
              "          google.colab.kernel.accessAllowed ? 'block' : 'none';\n",
              "\n",
              "        async function convertToInteractive(key) {\n",
              "          const element = document.querySelector('#df-9adc1831-7f95-4e68-b022-73fa1fd60250');\n",
              "          const dataTable =\n",
              "            await google.colab.kernel.invokeFunction('convertToInteractive',\n",
              "                                                     [key], {});\n",
              "          if (!dataTable) return;\n",
              "\n",
              "          const docLinkHtml = 'Like what you see? Visit the ' +\n",
              "            '<a target=\"_blank\" href=https://colab.research.google.com/notebooks/data_table.ipynb>data table notebook</a>'\n",
              "            + ' to learn more about interactive tables.';\n",
              "          element.innerHTML = '';\n",
              "          dataTable['output_type'] = 'display_data';\n",
              "          await google.colab.output.renderOutput(dataTable, element);\n",
              "          const docLink = document.createElement('div');\n",
              "          docLink.innerHTML = docLinkHtml;\n",
              "          element.appendChild(docLink);\n",
              "        }\n",
              "      </script>\n",
              "    </div>\n",
              "  </div>\n",
              "  "
            ]
          },
          "metadata": {},
          "execution_count": 24
        }
      ]
    },
    {
      "cell_type": "code",
      "source": [
        "# Pass data to gym environment\n",
        "env=gym.make('stocks-v0',df=df,frame_bound=(5,100),window_size=5)\n",
        "env.signal_features\n"
      ],
      "metadata": {
        "colab": {
          "base_uri": "https://localhost:8080/"
        },
        "id": "jHWnitRrKDit",
        "outputId": "1b2de8c4-798b-4d8a-ad56-df91c993815c"
      },
      "execution_count": null,
      "outputs": [
        {
          "output_type": "execute_result",
          "data": {
            "text/plain": [
              "array([[ 2.6450e+02,  0.0000e+00],\n",
              "       [ 2.6000e+02, -4.5000e+00],\n",
              "       [ 2.6500e+02,  5.0000e+00],\n",
              "       [ 2.4690e+02, -1.8100e+01],\n",
              "       [ 1.9450e+02, -5.2400e+01],\n",
              "       [ 1.3774e+02, -5.6760e+01],\n",
              "       [ 1.3235e+02, -5.3900e+00],\n",
              "       [ 1.2418e+02, -8.1700e+00],\n",
              "       [ 1.1818e+02, -6.0000e+00],\n",
              "       [ 1.2040e+02,  2.2200e+00],\n",
              "       [ 1.0174e+02, -1.8660e+01],\n",
              "       [ 1.0873e+02,  6.9900e+00],\n",
              "       [ 9.1710e+01, -1.7020e+01],\n",
              "       [ 4.4970e+01, -4.6740e+01],\n",
              "       [ 4.6000e+01,  1.0300e+00],\n",
              "       [ 4.0590e+01, -5.4100e+00],\n",
              "       [ 4.0690e+01,  1.0000e-01],\n",
              "       [ 4.5940e+01,  5.2500e+00],\n",
              "       [ 4.9510e+01,  3.5700e+00],\n",
              "       [ 5.2400e+01,  2.8900e+00],\n",
              "       [ 5.1100e+01, -1.3000e+00],\n",
              "       [ 5.1200e+01,  1.0000e-01],\n",
              "       [ 5.0310e+01, -8.9000e-01],\n",
              "       [ 6.0000e+01,  9.6900e+00],\n",
              "       [ 6.3770e+01,  3.7700e+00],\n",
              "       [ 5.3500e+01, -1.0270e+01],\n",
              "       [ 9.2410e+01,  3.8910e+01],\n",
              "       [ 9.0000e+01, -2.4100e+00],\n",
              "       [ 2.2500e+02,  1.3500e+02],\n",
              "       [ 3.2500e+02,  1.0000e+02],\n",
              "       [ 1.9360e+02, -1.3140e+02],\n",
              "       [ 3.4751e+02,  1.5391e+02],\n",
              "       [ 1.4798e+02, -1.9953e+02],\n",
              "       [ 7.6790e+01, -7.1190e+01],\n",
              "       [ 6.5010e+01, -1.1780e+01],\n",
              "       [ 4.3030e+01, -2.1980e+01],\n",
              "       [ 3.9120e+01, -3.9100e+00],\n",
              "       [ 3.9360e+01,  2.4000e-01],\n",
              "       [ 3.5500e+01, -3.8600e+00],\n",
              "       [ 3.9910e+01,  4.4100e+00],\n",
              "       [ 3.1400e+01, -8.5100e+00],\n",
              "       [ 1.9950e+01, -1.1450e+01],\n",
              "       [ 1.9940e+01, -1.0000e-02],\n",
              "       [ 1.7690e+01, -2.2500e+00],\n",
              "       [ 1.8080e+01,  3.9000e-01],\n",
              "       [ 1.8360e+01,  2.8000e-01],\n",
              "       [ 1.7370e+01, -9.9000e-01],\n",
              "       [ 1.7250e+01, -1.2000e-01],\n",
              "       [ 1.8840e+01,  1.5900e+00],\n",
              "       [ 1.9260e+01,  4.2000e-01],\n",
              "       [ 1.9380e+01,  1.2000e-01],\n",
              "       [ 2.0990e+01,  1.6100e+00],\n",
              "       [ 2.0150e+01, -8.4000e-01],\n",
              "       [ 2.0570e+01,  4.2000e-01],\n",
              "       [ 1.9460e+01, -1.1100e+00],\n",
              "       [ 1.5530e+01, -3.9300e+00],\n",
              "       [ 1.5630e+01,  1.0000e-01],\n",
              "       [ 1.4830e+01, -8.0000e-01],\n",
              "       [ 1.3850e+01, -9.8000e-01],\n",
              "       [ 1.3850e+01,  0.0000e+00],\n",
              "       [ 1.2720e+01, -1.1300e+00],\n",
              "       [ 1.3310e+01,  5.9000e-01],\n",
              "       [ 1.4120e+01,  8.1000e-01],\n",
              "       [ 1.3660e+01, -4.6000e-01],\n",
              "       [ 1.6940e+01,  3.2800e+00],\n",
              "       [ 1.6350e+01, -5.9000e-01],\n",
              "       [ 1.6900e+01,  5.5000e-01],\n",
              "       [ 1.6120e+01, -7.8000e-01],\n",
              "       [ 1.6580e+01,  4.6000e-01],\n",
              "       [ 1.5800e+01, -7.8000e-01],\n",
              "       [ 1.6560e+01,  7.6000e-01],\n",
              "       [ 1.6080e+01, -4.8000e-01],\n",
              "       [ 1.4750e+01, -1.3300e+00],\n",
              "       [ 1.3670e+01, -1.0800e+00],\n",
              "       [ 1.3900e+01,  2.3000e-01],\n",
              "       [ 1.2710e+01, -1.1900e+00],\n",
              "       [ 1.2460e+01, -2.5000e-01],\n",
              "       [ 1.1570e+01, -8.9000e-01],\n",
              "       [ 1.1630e+01,  6.0000e-02],\n",
              "       [ 1.2060e+01,  4.3000e-01],\n",
              "       [ 1.1010e+01, -1.0500e+00],\n",
              "       [ 1.1130e+01,  1.2000e-01],\n",
              "       [ 1.1750e+01,  6.2000e-01],\n",
              "       [ 1.1100e+01, -6.5000e-01],\n",
              "       [ 1.1490e+01,  3.9000e-01],\n",
              "       [ 1.1860e+01,  3.7000e-01],\n",
              "       [ 1.1450e+01, -4.1000e-01],\n",
              "       [ 1.0910e+01, -5.4000e-01],\n",
              "       [ 1.1570e+01,  6.6000e-01],\n",
              "       [ 1.0750e+01, -8.2000e-01],\n",
              "       [ 1.0470e+01, -2.8000e-01],\n",
              "       [ 1.1730e+01,  1.2600e+00],\n",
              "       [ 1.1820e+01,  9.0000e-02],\n",
              "       [ 1.2690e+01,  8.7000e-01],\n",
              "       [ 1.3450e+01,  7.6000e-01],\n",
              "       [ 1.5000e+01,  1.5500e+00],\n",
              "       [ 1.4910e+01, -9.0000e-02],\n",
              "       [ 1.4100e+01, -8.1000e-01],\n",
              "       [ 1.3860e+01, -2.4000e-01],\n",
              "       [ 1.3910e+01,  5.0000e-02]])"
            ]
          },
          "metadata": {},
          "execution_count": 25
        }
      ]
    },
    {
      "cell_type": "markdown",
      "source": [
        "# Build environment"
      ],
      "metadata": {
        "id": "mWKIjVJaWCVl"
      }
    },
    {
      "cell_type": "code",
      "source": [
        "state=env.reset()\n",
        "while True:\n",
        "    action=env.action_space.sample()\n",
        "    n_state,reward,done,info=env.step(action)\n",
        "    if done:\n",
        "        print(\"info\",info)\n",
        "        break\n",
        "plt.figure(figsize=(15,6))\n",
        "plt.cla()\n",
        "env.render_all()\n",
        "plt.show()"
      ],
      "metadata": {
        "colab": {
          "base_uri": "https://localhost:8080/",
          "height": 599
        },
        "id": "iP4B4dHJKHVS",
        "outputId": "b499a863-d9e5-4bc4-c8be-4a6666fdabd6"
      },
      "execution_count": null,
      "outputs": [
        {
          "output_type": "stream",
          "name": "stdout",
          "text": [
            "info {'total_reward': -276.56999999999994, 'total_profit': 0.02676672499099278, 'position': 1}\n"
          ]
        },
        {
          "output_type": "display_data",
          "data": {
            "text/plain": [
              "<Figure size 1500x600 with 1 Axes>"
            ],
            "image/png": "[encoded data removed]"
          },
          "metadata": {}
        }
      ]
    },
    {
      "cell_type": "markdown",
      "source": [
        "# Build environment using stable-baselines3 & train"
      ],
      "metadata": {
        "id": "GoJESf0jWMT8"
      }
    },
    {
      "cell_type": "code",
      "source": [
        "# Wrap gym environment into stable_baselines3 environment\n",
        "env_maker=lambda:gym.make('stocks-v0',df=df,frame_bound=(5,100),window_size=5)\n",
        "env=DummyVecEnv([env_maker])"
      ],
      "metadata": {
        "id": "wte5qU5tKWQ2"
      },
      "execution_count": null,
      "outputs": []
    },
    {
      "cell_type": "code",
      "source": [
        "# Set up algorithm & train\n",
        "model=A2C('MlpPolicy',env,verbose=1)\n",
        "model.learn(total_timesteps=10000)"
      ],
      "metadata": {
        "colab": {
          "base_uri": "https://localhost:8080/"
        },
        "id": "mtPzbdfEKeFN",
        "outputId": "ac747dc5-3955-4c23-bf5a-a425c12e5cef"
      },
      "execution_count": null,
      "outputs": [
        {
          "output_type": "stream",
          "name": "stdout",
          "text": [
            "Using cpu device\n",
            "------------------------------------\n",
            "| time/                 |          |\n",
            "|    fps                | 537      |\n",
            "|    iterations         | 100      |\n",
            "|    time_elapsed       | 0        |\n",
            "|    total_timesteps    | 500      |\n",
            "| train/                |          |\n",
            "|    entropy_loss       | -0.69    |\n",
            "|    explained_variance | 0.00269  |\n",
            "|    learning_rate      | 0.0007   |\n",
            "|    n_updates          | 99       |\n",
            "|    policy_loss        | 130      |\n",
            "|    value_loss         | 4.2e+04  |\n",
            "------------------------------------\n",
            "------------------------------------\n",
            "| time/                 |          |\n",
            "|    fps                | 579      |\n",
            "|    iterations         | 200      |\n",
            "|    time_elapsed       | 1        |\n",
            "|    total_timesteps    | 1000     |\n",
            "| train/                |          |\n",
            "|    entropy_loss       | -0.605   |\n",
            "|    explained_variance | 0.0202   |\n",
            "|    learning_rate      | 0.0007   |\n",
            "|    n_updates          | 199      |\n",
            "|    policy_loss        | -0.35    |\n",
            "|    value_loss         | 0.487    |\n",
            "------------------------------------\n",
            "------------------------------------\n",
            "| time/                 |          |\n",
            "|    fps                | 594      |\n",
            "|    iterations         | 300      |\n",
            "|    time_elapsed       | 2        |\n",
            "|    total_timesteps    | 1500     |\n",
            "| train/                |          |\n",
            "|    entropy_loss       | -0.432   |\n",
            "|    explained_variance | -20      |\n",
            "|    learning_rate      | 0.0007   |\n",
            "|    n_updates          | 299      |\n",
            "|    policy_loss        | -0.00297 |\n",
            "|    value_loss         | 0.000832 |\n",
            "------------------------------------\n",
            "------------------------------------\n",
            "| time/                 |          |\n",
            "|    fps                | 596      |\n",
            "|    iterations         | 400      |\n",
            "|    time_elapsed       | 3        |\n",
            "|    total_timesteps    | 2000     |\n",
            "| train/                |          |\n",
            "|    entropy_loss       | -0.491   |\n",
            "|    explained_variance | 0.00659  |\n",
            "|    learning_rate      | 0.0007   |\n",
            "|    n_updates          | 399      |\n",
            "|    policy_loss        | -4.85    |\n",
            "|    value_loss         | 74.2     |\n",
            "------------------------------------\n",
            "------------------------------------\n",
            "| time/                 |          |\n",
            "|    fps                | 599      |\n",
            "|    iterations         | 500      |\n",
            "|    time_elapsed       | 4        |\n",
            "|    total_timesteps    | 2500     |\n",
            "| train/                |          |\n",
            "|    entropy_loss       | -0.684   |\n",
            "|    explained_variance | -0.302   |\n",
            "|    learning_rate      | 0.0007   |\n",
            "|    n_updates          | 499      |\n",
            "|    policy_loss        | -0.402   |\n",
            "|    value_loss         | 0.806    |\n",
            "------------------------------------\n",
            "------------------------------------\n",
            "| time/                 |          |\n",
            "|    fps                | 585      |\n",
            "|    iterations         | 600      |\n",
            "|    time_elapsed       | 5        |\n",
            "|    total_timesteps    | 3000     |\n",
            "| train/                |          |\n",
            "|    entropy_loss       | -0.293   |\n",
            "|    explained_variance | 0.0568   |\n",
            "|    learning_rate      | 0.0007   |\n",
            "|    n_updates          | 599      |\n",
            "|    policy_loss        | -2.33    |\n",
            "|    value_loss         | 15.3     |\n",
            "------------------------------------\n",
            "-------------------------------------\n",
            "| time/                 |           |\n",
            "|    fps                | 554       |\n",
            "|    iterations         | 700       |\n",
            "|    time_elapsed       | 6         |\n",
            "|    total_timesteps    | 3500      |\n",
            "| train/                |           |\n",
            "|    entropy_loss       | -0.0487   |\n",
            "|    explained_variance | -3.74e+03 |\n",
            "|    learning_rate      | 0.0007    |\n",
            "|    n_updates          | 699       |\n",
            "|    policy_loss        | -0.00117  |\n",
            "|    value_loss         | 0.039     |\n",
            "-------------------------------------\n",
            "-------------------------------------\n",
            "| time/                 |           |\n",
            "|    fps                | 526       |\n",
            "|    iterations         | 800       |\n",
            "|    time_elapsed       | 7         |\n",
            "|    total_timesteps    | 4000      |\n",
            "| train/                |           |\n",
            "|    entropy_loss       | -0.0153   |\n",
            "|    explained_variance | -46.8     |\n",
            "|    learning_rate      | 0.0007    |\n",
            "|    n_updates          | 799       |\n",
            "|    policy_loss        | -4.15e-05 |\n",
            "|    value_loss         | 0.000427  |\n",
            "-------------------------------------\n",
            "-------------------------------------\n",
            "| time/                 |           |\n",
            "|    fps                | 512       |\n",
            "|    iterations         | 900       |\n",
            "|    time_elapsed       | 8         |\n",
            "|    total_timesteps    | 4500      |\n",
            "| train/                |           |\n",
            "|    entropy_loss       | -0.0138   |\n",
            "|    explained_variance | -27       |\n",
            "|    learning_rate      | 0.0007    |\n",
            "|    n_updates          | 899       |\n",
            "|    policy_loss        | -8.39e-07 |\n",
            "|    value_loss         | 0.000117  |\n",
            "-------------------------------------\n",
            "-------------------------------------\n",
            "| time/                 |           |\n",
            "|    fps                | 520       |\n",
            "|    iterations         | 1000      |\n",
            "|    time_elapsed       | 9         |\n",
            "|    total_timesteps    | 5000      |\n",
            "| train/                |           |\n",
            "|    entropy_loss       | -0.0329   |\n",
            "|    explained_variance | -144      |\n",
            "|    learning_rate      | 0.0007    |\n",
            "|    n_updates          | 999       |\n",
            "|    policy_loss        | -0.000253 |\n",
            "|    value_loss         | 0.00243   |\n",
            "-------------------------------------\n",
            "-------------------------------------\n",
            "| time/                 |           |\n",
            "|    fps                | 527       |\n",
            "|    iterations         | 1100      |\n",
            "|    time_elapsed       | 10        |\n",
            "|    total_timesteps    | 5500      |\n",
            "| train/                |           |\n",
            "|    entropy_loss       | -0.0105   |\n",
            "|    explained_variance | -16.6     |\n",
            "|    learning_rate      | 0.0007    |\n",
            "|    n_updates          | 1099      |\n",
            "|    policy_loss        | -4.98e-05 |\n",
            "|    value_loss         | 0.00141   |\n",
            "-------------------------------------\n",
            "------------------------------------\n",
            "| time/                 |          |\n",
            "|    fps                | 533      |\n",
            "|    iterations         | 1200     |\n",
            "|    time_elapsed       | 11       |\n",
            "|    total_timesteps    | 6000     |\n",
            "| train/                |          |\n",
            "|    entropy_loss       | -0.00257 |\n",
            "|    explained_variance | -475     |\n",
            "|    learning_rate      | 0.0007   |\n",
            "|    n_updates          | 1199     |\n",
            "|    policy_loss        | 3.03e-06 |\n",
            "|    value_loss         | 0.000282 |\n",
            "------------------------------------\n",
            "------------------------------------\n",
            "| time/                 |          |\n",
            "|    fps                | 539      |\n",
            "|    iterations         | 1300     |\n",
            "|    time_elapsed       | 12       |\n",
            "|    total_timesteps    | 6500     |\n",
            "| train/                |          |\n",
            "|    entropy_loss       | -0.00301 |\n",
            "|    explained_variance | -379     |\n",
            "|    learning_rate      | 0.0007   |\n",
            "|    n_updates          | 1299     |\n",
            "|    policy_loss        | 5.79e-06 |\n",
            "|    value_loss         | 0.000991 |\n",
            "------------------------------------\n",
            "------------------------------------\n",
            "| time/                 |          |\n",
            "|    fps                | 544      |\n",
            "|    iterations         | 1400     |\n",
            "|    time_elapsed       | 12       |\n",
            "|    total_timesteps    | 7000     |\n",
            "| train/                |          |\n",
            "|    entropy_loss       | -0.00316 |\n",
            "|    explained_variance | -54.7    |\n",
            "|    learning_rate      | 0.0007   |\n",
            "|    n_updates          | 1399     |\n",
            "|    policy_loss        | 7.41e-06 |\n",
            "|    value_loss         | 0.00113  |\n",
            "------------------------------------\n",
            "-------------------------------------\n",
            "| time/                 |           |\n",
            "|    fps                | 549       |\n",
            "|    iterations         | 1500      |\n",
            "|    time_elapsed       | 13        |\n",
            "|    total_timesteps    | 7500      |\n",
            "| train/                |           |\n",
            "|    entropy_loss       | -0.00264  |\n",
            "|    explained_variance | -30.3     |\n",
            "|    learning_rate      | 0.0007    |\n",
            "|    n_updates          | 1499      |\n",
            "|    policy_loss        | -5.23e-07 |\n",
            "|    value_loss         | 0.000103  |\n",
            "-------------------------------------\n",
            "-------------------------------------\n",
            "| time/                 |           |\n",
            "|    fps                | 553       |\n",
            "|    iterations         | 1600      |\n",
            "|    time_elapsed       | 14        |\n",
            "|    total_timesteps    | 8000      |\n",
            "| train/                |           |\n",
            "|    entropy_loss       | -0.00104  |\n",
            "|    explained_variance | -3.99e+04 |\n",
            "|    learning_rate      | 0.0007    |\n",
            "|    n_updates          | 1599      |\n",
            "|    policy_loss        | 1.88e-06  |\n",
            "|    value_loss         | 0.00734   |\n",
            "-------------------------------------\n",
            "------------------------------------\n",
            "| time/                 |          |\n",
            "|    fps                | 557      |\n",
            "|    iterations         | 1700     |\n",
            "|    time_elapsed       | 15       |\n",
            "|    total_timesteps    | 8500     |\n",
            "| train/                |          |\n",
            "|    entropy_loss       | -0.00609 |\n",
            "|    explained_variance | -359     |\n",
            "|    learning_rate      | 0.0007   |\n",
            "|    n_updates          | 1699     |\n",
            "|    policy_loss        | 0.000202 |\n",
            "|    value_loss         | 0.0207   |\n",
            "------------------------------------\n",
            "-------------------------------------\n",
            "| time/                 |           |\n",
            "|    fps                | 560       |\n",
            "|    iterations         | 1800      |\n",
            "|    time_elapsed       | 16        |\n",
            "|    total_timesteps    | 9000      |\n",
            "| train/                |           |\n",
            "|    entropy_loss       | -0.00106  |\n",
            "|    explained_variance | -48.2     |\n",
            "|    learning_rate      | 0.0007    |\n",
            "|    n_updates          | 1799      |\n",
            "|    policy_loss        | -4.49e-06 |\n",
            "|    value_loss         | 0.0035    |\n",
            "-------------------------------------\n",
            "-------------------------------------\n",
            "| time/                 |           |\n",
            "|    fps                | 563       |\n",
            "|    iterations         | 1900      |\n",
            "|    time_elapsed       | 16        |\n",
            "|    total_timesteps    | 9500      |\n",
            "| train/                |           |\n",
            "|    entropy_loss       | -0.0011   |\n",
            "|    explained_variance | 0.302     |\n",
            "|    learning_rate      | 0.0007    |\n",
            "|    n_updates          | 1899      |\n",
            "|    policy_loss        | -1.69e-05 |\n",
            "|    value_loss         | 0.043     |\n",
            "-------------------------------------\n",
            "-------------------------------------\n",
            "| time/                 |           |\n",
            "|    fps                | 566       |\n",
            "|    iterations         | 2000      |\n",
            "|    time_elapsed       | 17        |\n",
            "|    total_timesteps    | 10000     |\n",
            "| train/                |           |\n",
            "|    entropy_loss       | -0.045    |\n",
            "|    explained_variance | -2.47e+03 |\n",
            "|    learning_rate      | 0.0007    |\n",
            "|    n_updates          | 1999      |\n",
            "|    policy_loss        | -0.00133  |\n",
            "|    value_loss         | 0.00882   |\n",
            "-------------------------------------\n"
          ]
        },
        {
          "output_type": "execute_result",
          "data": {
            "text/plain": [
              "<stable_baselines3.a2c.a2c.A2C at 0x7eff3cce9b70>"
            ]
          },
          "metadata": {},
          "execution_count": 28
        }
      ]
    },
    {
      "cell_type": "markdown",
      "source": [
        "# Evaluation"
      ],
      "metadata": {
        "id": "GsRVYWzHWZ9u"
      }
    },
    {
      "cell_type": "code",
      "source": [
        "env=gym.make('stocks-v0',df=df,frame_bound=(90,110),window_size=5)\n",
        "obs=env.reset()\n",
        "while True:\n",
        "  obs=obs[np.newaxis,...]\n",
        "  action,_states=model.predict(obs)\n",
        "  obs,rewards,done,info=env.step(action)\n",
        "  if done:\n",
        "    print(\"info\",info)\n",
        "    break"
      ],
      "metadata": {
        "colab": {
          "base_uri": "https://localhost:8080/"
        },
        "id": "b7CkA71nKgXr",
        "outputId": "3cde3509-f649-4795-c413-3a52873b49c9"
      },
      "execution_count": null,
      "outputs": [
        {
          "output_type": "stream",
          "name": "stdout",
          "text": [
            "info {'total_reward': 0.0, 'total_profit': 0.7944222506393862, 'position': 1}\n"
          ]
        }
      ]
    },
    {
      "cell_type": "code",
      "source": [
        "plt.figure(figsize=(15,6))\n",
        "plt.cla()\n",
        "env.render_all()\n",
        "plt.show()"
      ],
      "metadata": {
        "colab": {
          "base_uri": "https://localhost:8080/",
          "height": 582
        },
        "id": "bU7vBvzNTPXv",
        "outputId": "d1f9796b-1931-4ae5-fc7c-97886a1786d5"
      },
      "execution_count": null,
      "outputs": [
        {
          "output_type": "display_data",
          "data": {
            "text/plain": [
              "<Figure size 1500x600 with 1 Axes>"
            ],
            "image/png": "[encoded data removed]"
          },
          "metadata": {}
        }
      ]
    },
    {
      "cell_type": "code",
      "source": [],
      "metadata": {
        "id": "nRzBg4GVVNJh"
      },
      "execution_count": null,
      "outputs": []
    }
  ]
}